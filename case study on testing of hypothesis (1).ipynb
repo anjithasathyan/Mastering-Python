{
 "cells": [
  {
   "cell_type": "markdown",
   "id": "957111a9",
   "metadata": {},
   "source": [
    "### A company started to invest in digital marketing as a new way of their product promotions. For that they collected data and decided to carry out a study on it."
   ]
  },
  {
   "cell_type": "markdown",
   "id": "0c2c1b71",
   "metadata": {},
   "source": [
    "### a. The company wishes to clarify whether there is any increase in sales after stepping into digital marketing."
   ]
  },
  {
   "cell_type": "markdown",
   "id": "4ccd1ed9",
   "metadata": {},
   "source": [
    "### b. The company needs to check whether there is any dependency between the features “Region” and “Manager”."
   ]
  },
  {
   "cell_type": "markdown",
   "id": "b3a9cd9f",
   "metadata": {},
   "source": [
    "## Importing Libraries"
   ]
  },
  {
   "cell_type": "code",
   "execution_count": 58,
   "id": "bf5bd275",
   "metadata": {},
   "outputs": [],
   "source": [
    "import numpy as np\n",
    "import pandas as pd\n",
    "import statistics as stat\n",
    "import math\n",
    "## visualization libraries\n",
    "import matplotlib.pyplot as plt\n",
    "import seaborn as sns\n",
    "\n",
    "%matplotlib inline"
   ]
  },
  {
   "cell_type": "code",
   "execution_count": 2,
   "id": "b24d36ba",
   "metadata": {},
   "outputs": [],
   "source": [
    "df = pd.read_csv('Sales_add.csv')"
   ]
  },
  {
   "cell_type": "code",
   "execution_count": 3,
   "id": "f8b17f29",
   "metadata": {},
   "outputs": [
    {
     "data": {
      "text/html": [
       "<div>\n",
       "<style scoped>\n",
       "    .dataframe tbody tr th:only-of-type {\n",
       "        vertical-align: middle;\n",
       "    }\n",
       "\n",
       "    .dataframe tbody tr th {\n",
       "        vertical-align: top;\n",
       "    }\n",
       "\n",
       "    .dataframe thead th {\n",
       "        text-align: right;\n",
       "    }\n",
       "</style>\n",
       "<table border=\"1\" class=\"dataframe\">\n",
       "  <thead>\n",
       "    <tr style=\"text-align: right;\">\n",
       "      <th></th>\n",
       "      <th>Month</th>\n",
       "      <th>Region</th>\n",
       "      <th>Manager</th>\n",
       "      <th>Sales_before_digital_add(in $)</th>\n",
       "      <th>Sales_After_digital_add(in $)</th>\n",
       "    </tr>\n",
       "  </thead>\n",
       "  <tbody>\n",
       "    <tr>\n",
       "      <th>0</th>\n",
       "      <td>Month-1</td>\n",
       "      <td>Region - A</td>\n",
       "      <td>Manager - A</td>\n",
       "      <td>132921</td>\n",
       "      <td>270390</td>\n",
       "    </tr>\n",
       "    <tr>\n",
       "      <th>1</th>\n",
       "      <td>Month-2</td>\n",
       "      <td>Region - A</td>\n",
       "      <td>Manager - C</td>\n",
       "      <td>149559</td>\n",
       "      <td>223334</td>\n",
       "    </tr>\n",
       "    <tr>\n",
       "      <th>2</th>\n",
       "      <td>Month-3</td>\n",
       "      <td>Region - B</td>\n",
       "      <td>Manager - A</td>\n",
       "      <td>146278</td>\n",
       "      <td>244243</td>\n",
       "    </tr>\n",
       "    <tr>\n",
       "      <th>3</th>\n",
       "      <td>Month-4</td>\n",
       "      <td>Region - B</td>\n",
       "      <td>Manager - B</td>\n",
       "      <td>152167</td>\n",
       "      <td>231808</td>\n",
       "    </tr>\n",
       "    <tr>\n",
       "      <th>4</th>\n",
       "      <td>Month-5</td>\n",
       "      <td>Region - C</td>\n",
       "      <td>Manager - B</td>\n",
       "      <td>159525</td>\n",
       "      <td>258402</td>\n",
       "    </tr>\n",
       "  </tbody>\n",
       "</table>\n",
       "</div>"
      ],
      "text/plain": [
       "     Month      Region      Manager  Sales_before_digital_add(in $)  \\\n",
       "0  Month-1  Region - A  Manager - A                          132921   \n",
       "1  Month-2  Region - A  Manager - C                          149559   \n",
       "2  Month-3  Region - B  Manager - A                          146278   \n",
       "3  Month-4  Region - B  Manager - B                          152167   \n",
       "4  Month-5  Region - C  Manager - B                          159525   \n",
       "\n",
       "   Sales_After_digital_add(in $)  \n",
       "0                         270390  \n",
       "1                         223334  \n",
       "2                         244243  \n",
       "3                         231808  \n",
       "4                         258402  "
      ]
     },
     "execution_count": 3,
     "metadata": {},
     "output_type": "execute_result"
    }
   ],
   "source": [
    "df.head()"
   ]
  },
  {
   "cell_type": "code",
   "execution_count": 4,
   "id": "59137206",
   "metadata": {},
   "outputs": [
    {
     "data": {
      "text/plain": [
       "(22, 5)"
      ]
     },
     "execution_count": 4,
     "metadata": {},
     "output_type": "execute_result"
    }
   ],
   "source": [
    "df.shape"
   ]
  },
  {
   "cell_type": "code",
   "execution_count": 5,
   "id": "1c45b135",
   "metadata": {},
   "outputs": [
    {
     "name": "stdout",
     "output_type": "stream",
     "text": [
      "<class 'pandas.core.frame.DataFrame'>\n",
      "RangeIndex: 22 entries, 0 to 21\n",
      "Data columns (total 5 columns):\n",
      " #   Column                          Non-Null Count  Dtype \n",
      "---  ------                          --------------  ----- \n",
      " 0   Month                           22 non-null     object\n",
      " 1   Region                          22 non-null     object\n",
      " 2   Manager                         22 non-null     object\n",
      " 3   Sales_before_digital_add(in $)  22 non-null     int64 \n",
      " 4   Sales_After_digital_add(in $)   22 non-null     int64 \n",
      "dtypes: int64(2), object(3)\n",
      "memory usage: 1012.0+ bytes\n"
     ]
    }
   ],
   "source": [
    "df.info()"
   ]
  },
  {
   "cell_type": "code",
   "execution_count": 7,
   "id": "d8627a6f",
   "metadata": {
    "scrolled": true
   },
   "outputs": [
    {
     "data": {
      "text/html": [
       "<div>\n",
       "<style scoped>\n",
       "    .dataframe tbody tr th:only-of-type {\n",
       "        vertical-align: middle;\n",
       "    }\n",
       "\n",
       "    .dataframe tbody tr th {\n",
       "        vertical-align: top;\n",
       "    }\n",
       "\n",
       "    .dataframe thead th {\n",
       "        text-align: right;\n",
       "    }\n",
       "</style>\n",
       "<table border=\"1\" class=\"dataframe\">\n",
       "  <thead>\n",
       "    <tr style=\"text-align: right;\">\n",
       "      <th></th>\n",
       "      <th>Sales_before_digital_add(in $)</th>\n",
       "      <th>Sales_After_digital_add(in $)</th>\n",
       "    </tr>\n",
       "  </thead>\n",
       "  <tbody>\n",
       "    <tr>\n",
       "      <th>count</th>\n",
       "      <td>22.000000</td>\n",
       "      <td>22.000000</td>\n",
       "    </tr>\n",
       "    <tr>\n",
       "      <th>mean</th>\n",
       "      <td>149239.954545</td>\n",
       "      <td>231123.727273</td>\n",
       "    </tr>\n",
       "    <tr>\n",
       "      <th>std</th>\n",
       "      <td>14844.042921</td>\n",
       "      <td>25556.777061</td>\n",
       "    </tr>\n",
       "    <tr>\n",
       "      <th>min</th>\n",
       "      <td>130263.000000</td>\n",
       "      <td>187305.000000</td>\n",
       "    </tr>\n",
       "    <tr>\n",
       "      <th>25%</th>\n",
       "      <td>138087.750000</td>\n",
       "      <td>214960.750000</td>\n",
       "    </tr>\n",
       "    <tr>\n",
       "      <th>50%</th>\n",
       "      <td>147444.000000</td>\n",
       "      <td>229986.500000</td>\n",
       "    </tr>\n",
       "    <tr>\n",
       "      <th>75%</th>\n",
       "      <td>157627.500000</td>\n",
       "      <td>250909.000000</td>\n",
       "    </tr>\n",
       "    <tr>\n",
       "      <th>max</th>\n",
       "      <td>178939.000000</td>\n",
       "      <td>276279.000000</td>\n",
       "    </tr>\n",
       "  </tbody>\n",
       "</table>\n",
       "</div>"
      ],
      "text/plain": [
       "       Sales_before_digital_add(in $)  Sales_After_digital_add(in $)\n",
       "count                       22.000000                      22.000000\n",
       "mean                    149239.954545                  231123.727273\n",
       "std                      14844.042921                   25556.777061\n",
       "min                     130263.000000                  187305.000000\n",
       "25%                     138087.750000                  214960.750000\n",
       "50%                     147444.000000                  229986.500000\n",
       "75%                     157627.500000                  250909.000000\n",
       "max                     178939.000000                  276279.000000"
      ]
     },
     "execution_count": 7,
     "metadata": {},
     "output_type": "execute_result"
    }
   ],
   "source": [
    "df.describe()"
   ]
  },
  {
   "cell_type": "code",
   "execution_count": 59,
   "id": "e38924c2",
   "metadata": {},
   "outputs": [
    {
     "data": {
      "text/plain": [
       "149239.95454545456"
      ]
     },
     "execution_count": 59,
     "metadata": {},
     "output_type": "execute_result"
    }
   ],
   "source": [
    "stat.mean(df['Sales_before_digital_add(in $)'])"
   ]
  },
  {
   "cell_type": "code",
   "execution_count": 60,
   "id": "85f1849a",
   "metadata": {},
   "outputs": [
    {
     "data": {
      "text/plain": [
       "231123.72727272726"
      ]
     },
     "execution_count": 60,
     "metadata": {},
     "output_type": "execute_result"
    }
   ],
   "source": [
    "stat.mean(df['Sales_After_digital_add(in $)'])"
   ]
  },
  {
   "cell_type": "markdown",
   "id": "9b1a47b9",
   "metadata": {},
   "source": [
    "## Is there any increase in sales after stepping into digital marketing?"
   ]
  },
  {
   "cell_type": "code",
   "execution_count": 76,
   "id": "f297e683",
   "metadata": {},
   "outputs": [],
   "source": [
    "# Two sample T-Test\n",
    "# null hypothesis(H0) : Sales_before_digital_add(in $)=Sales_After_digital_add(in $)\n",
    "# alternative hypothesis(Ha) : Sales_before_digital_add(in $)<Sales_After_digital_add(in $)"
   ]
  },
  {
   "cell_type": "code",
   "execution_count": 77,
   "id": "1d222553",
   "metadata": {},
   "outputs": [],
   "source": [
    "from scipy.stats import ttest_ind"
   ]
  },
  {
   "cell_type": "code",
   "execution_count": 78,
   "id": "7aa9dcf6",
   "metadata": {},
   "outputs": [],
   "source": [
    "t_stat,p_value = ttest_ind(df['Sales_before_digital_add(in $)'],df['Sales_After_digital_add(in $)'])"
   ]
  },
  {
   "cell_type": "code",
   "execution_count": 79,
   "id": "d770a03b",
   "metadata": {},
   "outputs": [
    {
     "data": {
      "text/plain": [
       "2.614368006904645e-16"
      ]
     },
     "execution_count": 79,
     "metadata": {},
     "output_type": "execute_result"
    }
   ],
   "source": [
    "p_value"
   ]
  },
  {
   "cell_type": "code",
   "execution_count": 80,
   "id": "69f8f190",
   "metadata": {},
   "outputs": [
    {
     "name": "stdout",
     "output_type": "stream",
     "text": [
      "Reject Null Hypothesis\n"
     ]
    }
   ],
   "source": [
    "if p_value<0.05:\n",
    "    print('Reject Null Hypothesis')\n",
    "else:\n",
    "    print('Accept Null Hypothesis')"
   ]
  },
  {
   "cell_type": "code",
   "execution_count": 62,
   "id": "a4182ba8",
   "metadata": {},
   "outputs": [],
   "source": [
    "# since the p_value>0.05, we Reject null hypothesis. Hence there is increase in sales after stepping into digital marketing."
   ]
  },
  {
   "cell_type": "markdown",
   "id": "bb9edd41",
   "metadata": {},
   "source": [
    "## Is there any dependency between the features “Region” and “Manager”."
   ]
  },
  {
   "cell_type": "code",
   "execution_count": 48,
   "id": "846d8448",
   "metadata": {},
   "outputs": [],
   "source": [
    "# chi-square test\n",
    "# Null Hypothesis(H0): There is no relationship\n",
    "# Alternative Hypothesis(Ha): There is relationship\n",
    "# if p<0.05 then we reject Null Hypothesis\n",
    "# else ,we fail to reject NULL Hypothesis"
   ]
  },
  {
   "cell_type": "code",
   "execution_count": 69,
   "id": "8e136f4e",
   "metadata": {},
   "outputs": [],
   "source": [
    "data = pd.crosstab(df.Region,df.Manager)"
   ]
  },
  {
   "cell_type": "code",
   "execution_count": 70,
   "id": "911d6672",
   "metadata": {},
   "outputs": [
    {
     "data": {
      "text/html": [
       "<div>\n",
       "<style scoped>\n",
       "    .dataframe tbody tr th:only-of-type {\n",
       "        vertical-align: middle;\n",
       "    }\n",
       "\n",
       "    .dataframe tbody tr th {\n",
       "        vertical-align: top;\n",
       "    }\n",
       "\n",
       "    .dataframe thead th {\n",
       "        text-align: right;\n",
       "    }\n",
       "</style>\n",
       "<table border=\"1\" class=\"dataframe\">\n",
       "  <thead>\n",
       "    <tr style=\"text-align: right;\">\n",
       "      <th>Manager</th>\n",
       "      <th>Manager - A</th>\n",
       "      <th>Manager - B</th>\n",
       "      <th>Manager - C</th>\n",
       "    </tr>\n",
       "    <tr>\n",
       "      <th>Region</th>\n",
       "      <th></th>\n",
       "      <th></th>\n",
       "      <th></th>\n",
       "    </tr>\n",
       "  </thead>\n",
       "  <tbody>\n",
       "    <tr>\n",
       "      <th>Region - A</th>\n",
       "      <td>4</td>\n",
       "      <td>3</td>\n",
       "      <td>3</td>\n",
       "    </tr>\n",
       "    <tr>\n",
       "      <th>Region - B</th>\n",
       "      <td>4</td>\n",
       "      <td>1</td>\n",
       "      <td>2</td>\n",
       "    </tr>\n",
       "    <tr>\n",
       "      <th>Region - C</th>\n",
       "      <td>1</td>\n",
       "      <td>3</td>\n",
       "      <td>1</td>\n",
       "    </tr>\n",
       "  </tbody>\n",
       "</table>\n",
       "</div>"
      ],
      "text/plain": [
       "Manager     Manager - A  Manager - B  Manager - C\n",
       "Region                                           \n",
       "Region - A            4            3            3\n",
       "Region - B            4            1            2\n",
       "Region - C            1            3            1"
      ]
     },
     "execution_count": 70,
     "metadata": {},
     "output_type": "execute_result"
    }
   ],
   "source": [
    "data"
   ]
  },
  {
   "cell_type": "code",
   "execution_count": 71,
   "id": "099eb099",
   "metadata": {},
   "outputs": [],
   "source": [
    "from scipy.stats import chi2_contingency"
   ]
  },
  {
   "cell_type": "code",
   "execution_count": 72,
   "id": "e3370422",
   "metadata": {},
   "outputs": [],
   "source": [
    "chi2_stat,p_value,dof,exp = chi2_contingency(data)"
   ]
  },
  {
   "cell_type": "code",
   "execution_count": 73,
   "id": "06b68cc7",
   "metadata": {},
   "outputs": [
    {
     "data": {
      "text/plain": [
       "0.5493991051158094"
      ]
     },
     "execution_count": 73,
     "metadata": {},
     "output_type": "execute_result"
    }
   ],
   "source": [
    "p_value"
   ]
  },
  {
   "cell_type": "code",
   "execution_count": 74,
   "id": "676e2772",
   "metadata": {},
   "outputs": [
    {
     "name": "stdout",
     "output_type": "stream",
     "text": [
      "Accept Null Hypothesis\n"
     ]
    }
   ],
   "source": [
    "if p_value<0.05:\n",
    "    print('Reject Null Hypothesis')\n",
    "else:\n",
    "    print('Accept Null Hypothesis')"
   ]
  },
  {
   "cell_type": "code",
   "execution_count": 75,
   "id": "36e7bac8",
   "metadata": {},
   "outputs": [],
   "source": [
    "# Hence we fail to reject null hypothesis. Thus there is no relationships between 'Region' and 'Manager'"
   ]
  },
  {
   "cell_type": "code",
   "execution_count": null,
   "id": "3a35210c",
   "metadata": {},
   "outputs": [],
   "source": []
  }
 ],
 "metadata": {
  "kernelspec": {
   "display_name": "Python 3 (ipykernel)",
   "language": "python",
   "name": "python3"
  },
  "language_info": {
   "codemirror_mode": {
    "name": "ipython",
    "version": 3
   },
   "file_extension": ".py",
   "mimetype": "text/x-python",
   "name": "python",
   "nbconvert_exporter": "python",
   "pygments_lexer": "ipython3",
   "version": "3.11.4"
  }
 },
 "nbformat": 4,
 "nbformat_minor": 5
}
